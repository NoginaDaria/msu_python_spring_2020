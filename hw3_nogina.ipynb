{
 "cells": [
  {
   "cell_type": "code",
   "execution_count": 1,
   "metadata": {},
   "outputs": [],
   "source": [
    "from bs4 import BeautifulSoup\n",
    "import requests\n",
    "from multiprocessing import Pool, Manager, Value, Lock\n",
    "from requests.exceptions import ConnectionError\n",
    "import pandas as pd"
   ]
  },
  {
   "cell_type": "code",
   "execution_count": 2,
   "metadata": {},
   "outputs": [],
   "source": [
    "with open('authors.txt') as f:\n",
    "    authors_id = [i.strip() for i in f.readlines()]"
   ]
  },
  {
   "cell_type": "code",
   "execution_count": 3,
   "metadata": {},
   "outputs": [],
   "source": [
    "site_name = 'https://www.respublica.ru'"
   ]
  },
  {
   "cell_type": "code",
   "execution_count": 4,
   "metadata": {},
   "outputs": [],
   "source": [
    "def get_books_url(author_id):\n",
    "    begin = True\n",
    "    while True:\n",
    "        if begin:\n",
    "            page = requests.get(site_name + f'/authors/{author_id}')\n",
    "            assert page.status_code < 400\n",
    "            begin=False\n",
    "        else:\n",
    "            page = requests.get(site_name + next_page)\n",
    "            assert page.status_code < 400\n",
    "        page = page.text\n",
    "        soup = BeautifulSoup(page, 'html.parser')\n",
    "        if soup.find_all('a', class_=\"rd-listing-product-item__link\"):\n",
    "            books.append([i['href'] for i in soup.find_all('a', class_=\"rd-listing-product-item__link\")])\n",
    "        \n",
    "        next_page_region = soup.find('a', class_='pagination-next')\n",
    "        if next_page_region:\n",
    "            next_page = next_page_region['href']\n",
    "        else:\n",
    "            break\n",
    "    with Lock():\n",
    "        global counter\n",
    "        counter.value += 1\n",
    "        if counter.value % 10 == 0:\n",
    "            print(f\"{round(counter.value / len(authors_id) * 100,2)}% done\\n\", end='', flush=True)"
   ]
  },
  {
   "cell_type": "code",
   "execution_count": 5,
   "metadata": {},
   "outputs": [
    {
     "name": "stdout",
     "output_type": "stream",
     "text": [
      "28.57% done\n",
      "57.14% done\n",
      "85.71% done\n"
     ]
    }
   ],
   "source": [
    "books = Manager().list()\n",
    "counter = Value('i', 0)\n",
    "with Pool(processes=len(authors_id)) as pool:\n",
    "    pool.map(get_books_url, authors_id)"
   ]
  },
  {
   "cell_type": "code",
   "execution_count": 6,
   "metadata": {},
   "outputs": [],
   "source": [
    "all_books = []\n",
    "for i in books:\n",
    "    all_books.extend(i)"
   ]
  },
  {
   "cell_type": "code",
   "execution_count": 7,
   "metadata": {},
   "outputs": [],
   "source": [
    "def process_page(url):\n",
    "    book_dict = {}\n",
    "    \n",
    "    page = requests.get(site_name + url)\n",
    "    assert page.status_code < 400\n",
    "    page = page.text\n",
    "    soup = BeautifulSoup(page, 'html.parser')\n",
    "    book_dict['URL'] = site_name + url\n",
    "    \n",
    "    if soup.find('div', class_='rd-page-product__breadcrumbs'):\n",
    "        categories = soup.find('div', class_='rd-page-product__breadcrumbs').find_all('span', class_=\"rd-page-breadcrumbs-item\")\n",
    "        if categories:\n",
    "            category_list = [i.text for i in categories]\n",
    "            category = '; '.join([i.strip(' ') for i in category_list])\n",
    "            book_dict['Категория'] = category\n",
    "    \n",
    "    if soup.find('h1', class_=\"rd-page-product__title\"):\n",
    "        name = soup.find('h1', class_=\"rd-page-product__title\").text\n",
    "        book_dict['Название'] = name\n",
    "\n",
    "    if soup.find_all('a', itemprop='brand'):\n",
    "        author = '; '.join([i.text for i in soup.find_all('a', itemprop='brand')])\n",
    "        book_dict['Автор'] = author\n",
    "    \n",
    "    if soup.find('span', itemprop='sku'):\n",
    "        ID = soup.find('span', itemprop='sku').text\n",
    "        book_dict['ID'] = ID\n",
    "    \n",
    "    \n",
    "    if soup.find('a', class_='download-pdf'):\n",
    "        preview = site_name + soup.find('a', class_='download-pdf')['href']\n",
    "        book_dict['Превью'] = preview\n",
    "    \n",
    "    if soup.find('div', class_='rd-page-product__photo'):\n",
    "        if soup.find('div', class_='rd-page-product__photo').img['src']:\n",
    "            image = site_name + soup.find('div', class_='rd-page-product__photo').img['src']\n",
    "            book_dict['Изображение'] = image\n",
    "    \n",
    "    if soup.find('div', class_='rd-page-product__price'):\n",
    "        if soup.find('div', class_='rd-page-product__price').span:\n",
    "            price = soup.find('div', class_='rd-page-product__price').span.text\n",
    "            book_dict['Цена'] = price\n",
    "    \n",
    "    old_price = soup.find('div', class_='rd-page-product__price-old')\n",
    "    if old_price:\n",
    "        book_dict['Цена (старая)'] = old_price.span.text.split()[0]\n",
    "    \n",
    "    if soup.find('span', itemprop='aggregateRating'):\n",
    "        score = soup.find('span', itemprop='aggregateRating').find('meta', itemprop=\"ratingValue\")['content']\n",
    "        num_scores = soup.find('span', itemprop='aggregateRating').find('meta', itemprop=\"ratingCount\")['content']\n",
    "        num_reviews = soup.find('span', itemprop='aggregateRating').find('meta', itemprop=\"reviewCount\")['content']\n",
    "        \n",
    "        book_dict['Число отзывов'] = num_reviews\n",
    "        book_dict['Число оценок'] = num_scores\n",
    "        book_dict['Оценка'] = score\n",
    "    \n",
    "    if soup.find('div', class_='rd-page-product__buttons').a['class'][1].find('available') > -1:\n",
    "        avaliable = 'True'\n",
    "    else:\n",
    "        avaliable = 'False'\n",
    "    book_dict['В наличии'] = avaliable\n",
    "    \n",
    "    if soup.find('div', class_='rd-page-product__desc-body'):\n",
    "        about = soup.find('div', class_='rd-page-product__desc-body').text\n",
    "        book_dict['Описание'] = about\n",
    "    \n",
    "    characteristics_raw = soup.find('div', class_='rd-page-product__desc-params')\n",
    "    char_names = characteristics_raw.find_all('span', itemprop='name')\n",
    "    char_values = characteristics_raw.find_all(itemprop='value')\n",
    "    for (i,j) in zip(char_names, char_values):\n",
    "        book_dict[i.text] = j.text\n",
    "    \n",
    "    with Lock():\n",
    "        global counter\n",
    "        counter.value += 1\n",
    "        if counter.value % 200 == 0:\n",
    "            print(f\"{round(counter.value / len(all_books) * 100)}% -> \", end='', flush=True)\n",
    "    return book_dict"
   ]
  },
  {
   "cell_type": "code",
   "execution_count": 8,
   "metadata": {},
   "outputs": [
    {
     "name": "stdout",
     "output_type": "stream",
     "text": [
      "8% -> 16% -> 24% -> 33% -> 41% -> 49% -> 57% -> 65% -> 73% -> 81% -> 89% -> 98% -> "
     ]
    }
   ],
   "source": [
    "counter = Value('i', 0)\n",
    "with Pool(processes=10) as pool:\n",
    "    all_dicts = pool.map(process_page, all_books)"
   ]
  },
  {
   "cell_type": "code",
   "execution_count": 9,
   "metadata": {},
   "outputs": [],
   "source": [
    "df = pd.DataFrame(all_dicts)\n",
    "df.sort_values(by=['ID'], inplace=True)"
   ]
  },
  {
   "cell_type": "code",
   "execution_count": 10,
   "metadata": {},
   "outputs": [],
   "source": [
    "with open('hw_3.csv', mode='w', encoding='utf-8') as f_csv:\n",
    "    df.to_csv(f_csv, index=False)"
   ]
  },
  {
   "cell_type": "code",
   "execution_count": null,
   "metadata": {},
   "outputs": [],
   "source": []
  }
 ],
 "metadata": {
  "kernelspec": {
   "display_name": "Python 3",
   "language": "python",
   "name": "python3"
  },
  "language_info": {
   "codemirror_mode": {
    "name": "ipython",
    "version": 3
   },
   "file_extension": ".py",
   "mimetype": "text/x-python",
   "name": "python",
   "nbconvert_exporter": "python",
   "pygments_lexer": "ipython3",
   "version": "3.7.3"
  }
 },
 "nbformat": 4,
 "nbformat_minor": 2
}
